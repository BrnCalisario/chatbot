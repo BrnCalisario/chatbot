{
 "cells": [
  {
   "cell_type": "code",
   "execution_count": 2,
   "metadata": {},
   "outputs": [],
   "source": [
    "import pandas as pd\n",
    "import numpy as np\n",
    "import json"
   ]
  },
  {
   "cell_type": "code",
   "execution_count": 1,
   "metadata": {},
   "outputs": [
    {
     "ename": "NameError",
     "evalue": "name 'json' is not defined",
     "output_type": "error",
     "traceback": [
      "\u001b[1;31m---------------------------------------------------------------------------\u001b[0m",
      "\u001b[1;31mNameError\u001b[0m                                 Traceback (most recent call last)",
      "\u001b[1;32mc:\\Users\\disrct\\Desktop\\brunoC\\ML\\chatbot\\bot_model\\cleaning_json.ipynb Cell 2\u001b[0m line \u001b[0;36m4\n\u001b[0;32m      <a href='vscode-notebook-cell:/c%3A/Users/disrct/Desktop/brunoC/ML/chatbot/bot_model/cleaning_json.ipynb#W1sZmlsZQ%3D%3D?line=0'>1</a>\u001b[0m \u001b[39m# Load json\u001b[39;00m\n\u001b[0;32m      <a href='vscode-notebook-cell:/c%3A/Users/disrct/Desktop/brunoC/ML/chatbot/bot_model/cleaning_json.ipynb#W1sZmlsZQ%3D%3D?line=2'>3</a>\u001b[0m f \u001b[39m=\u001b[39m \u001b[39mopen\u001b[39m(\u001b[39m\"\u001b[39m\u001b[39m./data/Intent.json\u001b[39m\u001b[39m\"\u001b[39m)\n\u001b[1;32m----> <a href='vscode-notebook-cell:/c%3A/Users/disrct/Desktop/brunoC/ML/chatbot/bot_model/cleaning_json.ipynb#W1sZmlsZQ%3D%3D?line=3'>4</a>\u001b[0m data \u001b[39m=\u001b[39m json\u001b[39m.\u001b[39mload(f)[\u001b[39m\"\u001b[39m\u001b[39mintents\u001b[39m\u001b[39m\"\u001b[39m]\n",
      "\u001b[1;31mNameError\u001b[0m: name 'json' is not defined"
     ]
    }
   ],
   "source": [
    "# Load json\n",
    "\n",
    "f = open(\"./data/Intent.json\")\n",
    "data = json.load(f)[\"intents\"]"
   ]
  },
  {
   "cell_type": "code",
   "execution_count": 39,
   "metadata": {},
   "outputs": [],
   "source": [
    "# Extracting info\n",
    "\n",
    "df = pd.DataFrame()\n",
    "\n",
    "messages = []\n",
    "intents = []\n",
    "\n",
    "for it in data:\n",
    "    for text in it[\"text\"]:\n",
    "        messages.append(text)\n",
    "        intents.append(it[\"intent\"])\n",
    "\n",
    "df[\"Message\"] = messages\n",
    "df[\"Intent\"] = intents\n",
    "\n",
    "df.to_csv(\"./data/messages.csv\", index=False, sep=\";\")"
   ]
  },
  {
   "cell_type": "code",
   "execution_count": 40,
   "metadata": {},
   "outputs": [],
   "source": [
    "df_responses = pd.DataFrame()\n",
    "\n",
    "responses = []\n",
    "intents = []\n",
    "\n",
    "for it in data:\n",
    "    for response in it[\"responses\"]:\n",
    "        responses.append(response)\n",
    "        intents.append(it[\"intent\"])\n",
    "\n",
    "df_responses[\"Response\"] = responses\n",
    "df_responses[\"Intent\"] = intents\n",
    "\n",
    "df_responses.to_csv(\"./data/responses.csv\", index=False, sep=\";\")"
   ]
  }
 ],
 "metadata": {
  "kernelspec": {
   "display_name": "Python 3",
   "language": "python",
   "name": "python3"
  },
  "language_info": {
   "codemirror_mode": {
    "name": "ipython",
    "version": 3
   },
   "file_extension": ".py",
   "mimetype": "text/x-python",
   "name": "python",
   "nbconvert_exporter": "python",
   "pygments_lexer": "ipython3",
   "version": "3.11.5"
  }
 },
 "nbformat": 4,
 "nbformat_minor": 2
}
